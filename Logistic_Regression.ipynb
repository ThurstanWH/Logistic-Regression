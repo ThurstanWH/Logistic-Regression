{
  "nbformat": 4,
  "nbformat_minor": 0,
  "metadata": {
    "colab": {
      "name": "Logistic Regression.ipynb",
      "provenance": [],
      "collapsed_sections": []
    },
    "kernelspec": {
      "name": "python3",
      "display_name": "Python 3"
    },
    "language_info": {
      "name": "python"
    }
  },
  "cells": [
    {
      "cell_type": "markdown",
      "metadata": {
        "id": "7b7grWmZXW4n"
      },
      "source": [
        "# Code"
      ]
    },
    {
      "cell_type": "code",
      "metadata": {
        "id": "LJJZuISJXCa2"
      },
      "source": [
        "import numpy as np\n",
        "import math\n",
        "import matplotlib.pyplot as plt\n",
        "\n",
        "#Dataset\n",
        "X = np.asarray ([[0.50], [0.75], [1.00], [1.25], [1.50], [1.75], [3.00], [4.75], \n",
        "[1.75], [3.25], [5.00], [2.00], [2.25], [2.50], [2.75], [3.50], [4.00], [4.25], \n",
        "[4.50], [5.50]])\n",
        "Y = np.asarray([0, 0, 0, 0, 0, 0, 1, 0, 1, 0, 1,0,1,0,1,1,1,1,1,1])\n",
        "\n",
        "def getPredictions(X, model):\n",
        "  '''Takes dataset X and the model then returns an array of predictions for each x'''\n",
        "  predictions = list()\n",
        "  for x in X:\n",
        "    prediction = model[0] #add intercept parameter\n",
        "    for i in range(len(x)):\n",
        "      prediction += x[i] * model[i+1] #add x value multiplied by associated coefficient parameter\n",
        "    predictions.append(prediction)\n",
        "  for i in range(len(predictions)):#calculate predictions\n",
        "    predictions[i] = 1/(1 + math.exp(-predictions[i])) \n",
        "  return predictions\n",
        "\n",
        "def getLoss(predictions, Y):\n",
        "  '''Takes model predictions and data labels Y then returns the models loss for this data'''\n",
        "  loss = 0.0\n",
        "  for i in range(len(Y)):#find sum of the cost function for each prediction\n",
        "    loss += -(Y[i] * math.log(predictions[i])) -((1 - Y[i]) * math.log(1 - predictions[i]))\n",
        "  loss = loss / len(Y)#calculate loss\n",
        "  return loss\n",
        "\n",
        "def Train(learningRate, X, Y, predictions, model):\n",
        "  '''Takes learning rate, dataset X, data labels Y, model predictions and the model to be trained then returns a trained version of the model'''\n",
        "  #update intercept parameter\n",
        "  change = 0.0\n",
        "  for i in range(len(Y)):\n",
        "    change += (predictions[i] -  Y[i]) \n",
        "  change = change * (learningRate / len(Y))\n",
        "  model[0] = model[0] - change\n",
        "  #update all coefficient parameters\n",
        "  for parameter in range(1, len(model)):\n",
        "    change = 0.0\n",
        "    for i in range(len(Y)):\n",
        "      change += (predictions[i] -  Y[i]) * X[i][parameter - 1]\n",
        "    change = change * (learningRate / len(Y))\n",
        "    model[parameter] = model[parameter] - change\n",
        "  return model\n",
        "\n",
        "def LogisticRegression(learningRate, iterations, X, Y, model):\n",
        "  '''Takes learning rate, training iterations, dataset X, data labels Y and the model to be trained then returns a trained version of the model'''\n",
        "  loss = list()\n",
        "  for iteration in range(iterations):\n",
        "    predictions = getPredictions(X, model) #calculate predictions\n",
        "    loss.append(getLoss(predictions, Y)) #calculate loss\n",
        "    model = Train(learningRate, X, Y, predictions, model) #update model parameters\n",
        "  #plot loss per iteration graph\n",
        "  plt.plot(loss)\n",
        "  plt.ylabel('Loss')\n",
        "  plt.xlabel('Iteration')\n",
        "  plt.show()\n",
        "  return model"
      ],
      "execution_count": 1,
      "outputs": []
    },
    {
      "cell_type": "markdown",
      "metadata": {
        "id": "tcKwFWJSXUrr"
      },
      "source": [
        "# Test"
      ]
    },
    {
      "cell_type": "code",
      "metadata": {
        "colab": {
          "base_uri": "https://localhost:8080/",
          "height": 336
        },
        "id": "Z8u-msf_XT78",
        "outputId": "13a9f8a9-cd96-4a7f-a3c7-0f84c0d96c31"
      },
      "source": [
        "model = [1, 1] #untrained model with parameters initialised to 1\n",
        "model = LogisticRegression(1,100,X,Y,model)\n",
        "print(getPredictions(X,model))\n",
        "print(model)"
      ],
      "execution_count": 2,
      "outputs": [
        {
          "output_type": "display_data",
          "data": {
            "image/png": "[encoded data removed]",
            "text/plain": [
              "<Figure size 432x288 with 1 Axes>"
            ]
          },
          "metadata": {
            "needs_background": "light"
          }
        },
        {
          "output_type": "stream",
          "name": "stdout",
          "text": [
            "[0.09610736303278608, 0.12041158112124868, 0.14984311030605335, 0.18495574818990448, 0.22610800680984044, 0.27334576107502623, 0.5709720434284368, 0.8864279227091879, 0.27334576107502623, 0.6314690996156641, 0.9094936845096107, 0.32629136956705673, 0.38407184770511943, 0.4453209499558577, 0.5082772142408946, 0.6880955307283955, 0.7852695126848683, 0.8248197703859689, 0.8583990089997598, 0.9433679322408358]\n",
            "[-2.746657221740257, 1.0108251286128813]\n"
          ]
        }
      ]
    }
  ]
}